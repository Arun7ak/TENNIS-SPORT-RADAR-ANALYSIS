{
 "cells": [
  {
   "cell_type": "markdown",
   "metadata": {},
   "source": [
    "SPORTS RADAR API COMPETITIONS DATA"
   ]
  },
  {
   "cell_type": "code",
   "execution_count": null,
   "metadata": {},
   "outputs": [],
   "source": [
    "pip install requests"
   ]
  },
  {
   "cell_type": "code",
   "execution_count": 1,
   "metadata": {},
   "outputs": [],
   "source": [
    "#COLLECTING JSON COMPETITIONS DATA FROM SPORTS RADAR API\n",
    "import requests\n",
    "\n",
    "url = \"https://api.sportradar.com/tennis/trial/v3/en/competitions.json?api_key=UMjToJVdpV74IvFAz1VrFWQcVMwv510g66U5yqOI\"\n",
    "\n",
    "headers = {\"accept\": \"application/json\"}\n",
    "\n",
    "response = requests.get(url, headers=headers)"
   ]
  },
  {
   "cell_type": "markdown",
   "metadata": {},
   "source": [
    "CREATING THE CATEGORY TABLE"
   ]
  },
  {
   "cell_type": "code",
   "execution_count": 2,
   "metadata": {},
   "outputs": [],
   "source": [
    "#STORING JSON DATA IN JSON_DATA VARIABLE\n",
    "json_data = response.json()"
   ]
  },
  {
   "cell_type": "code",
   "execution_count": 3,
   "metadata": {},
   "outputs": [],
   "source": [
    "#CREATING EMPTY LIST\n",
    "category_list = []"
   ]
  },
  {
   "cell_type": "code",
   "execution_count": 4,
   "metadata": {},
   "outputs": [],
   "source": [
    "#STORING THE DATA IN EMPTY LIST\n",
    "for competition in json_data[\"competitions\"]:\n",
    "     category_info = {\n",
    "          \"category_id\": competition.get(\"category\", {}).get(\"id\"),\n",
    "          \"category_name\": competition.get(\"category\", {}).get(\"name\")\n",
    "        \n",
    "     }\n",
    "     category_list.append(category_info)"
   ]
  },
  {
   "cell_type": "code",
   "execution_count": 5,
   "metadata": {},
   "outputs": [],
   "source": [
    "#IMPORTING PANDAS FOR CREATING DATAFRAME AND CLEANING DATA\n",
    "import pandas as pd"
   ]
  },
  {
   "cell_type": "code",
   "execution_count": 6,
   "metadata": {},
   "outputs": [],
   "source": [
    "#CREATING DATAFRAME FOR CATEGORIES DATA\n",
    "dataframe_1=pd.DataFrame(category_list)"
   ]
  },
  {
   "cell_type": "code",
   "execution_count": null,
   "metadata": {},
   "outputs": [],
   "source": [
    "#DISPLAYING DATAFRAME\n",
    "dataframe_1"
   ]
  },
  {
   "cell_type": "code",
   "execution_count": 8,
   "metadata": {},
   "outputs": [
    {
     "data": {
      "text/plain": [
       "category_id      0\n",
       "category_name    0\n",
       "dtype: int64"
      ]
     },
     "execution_count": 8,
     "metadata": {},
     "output_type": "execute_result"
    }
   ],
   "source": [
    "#CHECKING NULL VALUES\n",
    "dataframe_1.isnull().sum()"
   ]
  },
  {
   "cell_type": "code",
   "execution_count": 20,
   "metadata": {},
   "outputs": [
    {
     "data": {
      "text/plain": [
       "category_id      16\n",
       "category_name    16\n",
       "dtype: int64"
      ]
     },
     "execution_count": 20,
     "metadata": {},
     "output_type": "execute_result"
    }
   ],
   "source": [
    "#CHECKING UNIQUE VALUES\n",
    "dataframe_1.nunique()\n",
    "dataframe_1.nunique()"
   ]
  },
  {
   "cell_type": "code",
   "execution_count": 10,
   "metadata": {},
   "outputs": [],
   "source": [
    "#DROPING THE DUPLICATES AND STORING IN NEW VARIABLE\n",
    "dataframe_1_1 =  dataframe_1.drop_duplicates()"
   ]
  },
  {
   "cell_type": "code",
   "execution_count": null,
   "metadata": {},
   "outputs": [],
   "source": [
    "#DISPLAYING THE DATA FOR CHECKING \n",
    "dataframe_1_1"
   ]
  },
  {
   "cell_type": "code",
   "execution_count": null,
   "metadata": {},
   "outputs": [],
   "source": [
    "#CONVERTING THE UNCLEANED DATAFRAME TO CSV FOR CHECKING\n",
    "dataframe_1.to_csv(\"Categories_Table.csv\",index=False)"
   ]
  },
  {
   "cell_type": "code",
   "execution_count": null,
   "metadata": {},
   "outputs": [],
   "source": [
    "#CONVERTING THE CLEANED DATAFRAME TO CSV FILES\n",
    "dataframe_1_1.to_csv(\"Categories1_Table.csv\",index=False)"
   ]
  },
  {
   "cell_type": "markdown",
   "metadata": {},
   "source": [
    "CREATING THE COMPETITIONS TABLE"
   ]
  },
  {
   "cell_type": "code",
   "execution_count": 14,
   "metadata": {},
   "outputs": [],
   "source": [
    "#CREATING EMPTY LIST\n",
    "competition_list = []"
   ]
  },
  {
   "cell_type": "code",
   "execution_count": 15,
   "metadata": {},
   "outputs": [],
   "source": [
    "#STORING THE DATA IN EMPTY LIST\n",
    "for competition in json_data[\"competitions\"]: \n",
    "        \n",
    "        \n",
    "        competition_info = {\n",
    "            \"competition_id\": competition.get(\"id\"),\n",
    "            \"competition_name\": competition.get(\"name\"),\n",
    "            \"parent_id\": competition.get(\"parent_id\"),\n",
    "            \"type\": competition.get(\"type\"),\n",
    "            \"gender\": competition.get(\"gender\"),\n",
    "            \"category_id\": competition.get(\"category\", {}).get(\"id\")\n",
    "        \n",
    "        }\n",
    "\n",
    "        competition_list.append(competition_info)"
   ]
  },
  {
   "cell_type": "code",
   "execution_count": 16,
   "metadata": {},
   "outputs": [],
   "source": [
    "#CREATING DATAFRAME FOR COMPETITIONS DATA\n",
    "dataframe_2 = pd.DataFrame(competition_list)"
   ]
  },
  {
   "cell_type": "code",
   "execution_count": null,
   "metadata": {},
   "outputs": [],
   "source": [
    "#DISPLAYING DATAFRAME\n",
    "dataframe_2"
   ]
  },
  {
   "cell_type": "code",
   "execution_count": 35,
   "metadata": {},
   "outputs": [
    {
     "data": {
      "text/plain": [
       "competition_id       0\n",
       "competition_name     0\n",
       "parent_id           40\n",
       "type                 0\n",
       "gender               0\n",
       "category_id          0\n",
       "dtype: int64"
      ]
     },
     "execution_count": 35,
     "metadata": {},
     "output_type": "execute_result"
    }
   ],
   "source": [
    "#CHECKING NULL VALUES\n",
    "dataframe_2.isnull().sum()\n",
    "\n"
   ]
  },
  {
   "cell_type": "code",
   "execution_count": 18,
   "metadata": {},
   "outputs": [],
   "source": [
    "#FILLING THE NULL VALUE NA WITH DOESN'T AFFECT THE DATA \n",
    "dataframe_2.fillna('NA',inplace=True)"
   ]
  },
  {
   "cell_type": "code",
   "execution_count": 19,
   "metadata": {},
   "outputs": [
    {
     "data": {
      "text/plain": [
       "competition_id      5800\n",
       "competition_name    5800\n",
       "parent_id           5800\n",
       "type                5800\n",
       "gender              5800\n",
       "category_id         5800\n",
       "dtype: int64"
      ]
     },
     "execution_count": 19,
     "metadata": {},
     "output_type": "execute_result"
    }
   ],
   "source": [
    "#COUNTING THE DATA\n",
    "dataframe_2.count()"
   ]
  },
  {
   "cell_type": "code",
   "execution_count": 38,
   "metadata": {},
   "outputs": [
    {
     "data": {
      "text/plain": [
       "competition_id      0\n",
       "competition_name    0\n",
       "parent_id           0\n",
       "type                0\n",
       "gender              0\n",
       "category_id         0\n",
       "dtype: int64"
      ]
     },
     "execution_count": 38,
     "metadata": {},
     "output_type": "execute_result"
    }
   ],
   "source": [
    "dataframe_2.isnull().sum()"
   ]
  },
  {
   "cell_type": "code",
   "execution_count": 39,
   "metadata": {},
   "outputs": [
    {
     "data": {
      "text/plain": [
       "competition_id      5800\n",
       "competition_name    5798\n",
       "parent_id           2858\n",
       "type                   4\n",
       "gender                 3\n",
       "category_id           16\n",
       "dtype: int64"
      ]
     },
     "execution_count": 39,
     "metadata": {},
     "output_type": "execute_result"
    }
   ],
   "source": [
    "#CHECKING UNIQUE DATA\n",
    "dataframe_2.nunique()\n"
   ]
  },
  {
   "cell_type": "code",
   "execution_count": null,
   "metadata": {},
   "outputs": [],
   "source": [
    "#DISPLAY THE DATAFRAME AFTER CLEANING\n",
    "dataframe_2"
   ]
  },
  {
   "cell_type": "code",
   "execution_count": null,
   "metadata": {},
   "outputs": [],
   "source": [
    "#CONVERTING THE COMPETITIONS CLEANED DATAFRAME TO CSV FILES\n",
    "dataframe_2.to_csv(\"Competitions_Table.csv\",index=False)"
   ]
  },
  {
   "cell_type": "markdown",
   "metadata": {},
   "source": [
    "SQL QUERY FOR COMPETITIONS AND CATEGORY TABLE"
   ]
  },
  {
   "cell_type": "code",
   "execution_count": null,
   "metadata": {},
   "outputs": [],
   "source": [
    "#INSTALLING MYSQL CONNECTOR TO CONNECT SQL WITH PYTHON\n",
    "pip install mysql-connector-python"
   ]
  },
  {
   "cell_type": "code",
   "execution_count": 41,
   "metadata": {},
   "outputs": [
    {
     "name": "stdout",
     "output_type": "stream",
     "text": [
      "<mysql.connector.connection.MySQLConnection object at 0x0000024A1A3C6AB0>\n"
     ]
    }
   ],
   "source": [
    "#CONNECTING SQL WITH PYTHON \n",
    "\n",
    "import mysql.connector\n",
    "connection= mysql.connector.connect(\n",
    " host= \"localhost\",\n",
    " user= \"root\",\n",
    " password=\"\",\n",
    " database=\"tennis_project\"\n",
    " )\n",
    "print(connection)\n",
    "mycursor = connection.cursor()"
   ]
  },
  {
   "cell_type": "code",
   "execution_count": null,
   "metadata": {},
   "outputs": [],
   "source": [
    "#INSTALLING TABULATE FOR DISPLAY THE QUERY IN TABLE FORMAT\n",
    "pip install tabulate"
   ]
  },
  {
   "cell_type": "code",
   "execution_count": 148,
   "metadata": {},
   "outputs": [],
   "source": [
    "#add the foreign key to category_id in competition table\n",
    "mycursor.execute(\"ALTER TABLE competitions_table ADD CONSTRAINT ID FOREIGN KEY (category_id) REFERENCES categories1_table(category_id)\")"
   ]
  },
  {
   "cell_type": "code",
   "execution_count": null,
   "metadata": {},
   "outputs": [],
   "source": [
    "#add the primary key to competition_id in competition table\n",
    "mycursor.execute(\"ALTER TABLE competitions_table ADD CONSTRAINT COM PRIMARY KEY (competition_id)\")"
   ]
  },
  {
   "cell_type": "code",
   "execution_count": null,
   "metadata": {},
   "outputs": [],
   "source": [
    "#1)List all competitions along with their category name\n",
    "mycursor.execute(\"\"\"SELECT competitions_table.competition_name,categories1_table.category_name FROM competitions_table\n",
    "                  INNER JOIN categories1_table ON competitions_table.category_id = categories1_table.category_id;\"\"\")\n",
    "out=mycursor.fetchall()\n",
    "from tabulate import tabulate\n",
    "print(tabulate(out,headers=[i[0] for i in mycursor.description],  tablefmt='psql'))"
   ]
  },
  {
   "cell_type": "code",
   "execution_count": null,
   "metadata": {},
   "outputs": [],
   "source": [
    "#2)Count the number of competitions in each category\n",
    "mycursor.execute(\"\"\"SELECT category_name, COUNT(competition_name) AS competition_count\n",
    "FROM (\n",
    "    SELECT \n",
    "        competitions_table.competition_name, \n",
    "        categories1_table.category_name\n",
    "    FROM competitions_table\n",
    "    INNER JOIN categories1_table\n",
    "    ON competitions_table.category_id = categories1_table.category_id\n",
    ") AS combined_table\n",
    "GROUP BY category_name ORDER BY competition_count\"\"\")\n",
    "out=mycursor.fetchall()\n",
    "from tabulate import tabulate\n",
    "print(tabulate(out,headers=[i[0] for i in mycursor.description],  tablefmt='psql'))"
   ]
  },
  {
   "cell_type": "code",
   "execution_count": null,
   "metadata": {},
   "outputs": [],
   "source": [
    "#3) Find all competitions of type 'doubles'\n",
    "mycursor.execute(\"select type,competition_name from competitions_table where type='doubles' \")\n",
    "out=mycursor.fetchall()\n",
    "from tabulate import tabulate\n",
    "print(tabulate(out,headers=[i[0] for i in mycursor.description],  tablefmt='psql'))"
   ]
  },
  {
   "cell_type": "code",
   "execution_count": null,
   "metadata": {},
   "outputs": [],
   "source": [
    "#4) Get competitions that belong to a specific category (e.g., ITF Men)\n",
    "mycursor.execute(\"\"\"select competition_name,category_name from (\n",
    "                 SELECT \n",
    "                competitions_table.competition_name, \n",
    "                categories1_table.category_name\n",
    "                FROM competitions_table\n",
    "                INNER JOIN categories1_table\n",
    "                ON competitions_table.category_id = categories1_table.category_id) AS combined2_table\n",
    "                where category_name='challenger' \"\"\")\n",
    "out=mycursor.fetchall()\n",
    "from tabulate import tabulate\n",
    "print(tabulate(out,headers=[i[0] for i in mycursor.description],  tablefmt='psql'))"
   ]
  },
  {
   "cell_type": "code",
   "execution_count": null,
   "metadata": {},
   "outputs": [],
   "source": [
    "#5) Identify parent competitions and their sub-competitions\n",
    "mycursor.execute(\"SELECT parent_id, category_id from competitions_table\")\n",
    "out=mycursor.fetchall()\n",
    "from tabulate import tabulate\n",
    "print(tabulate(out,headers=[i[0] for i in mycursor.description],  tablefmt='psql'))"
   ]
  },
  {
   "cell_type": "code",
   "execution_count": null,
   "metadata": {},
   "outputs": [],
   "source": [
    "#6) Analyze the distribution of competition types by category\n",
    "\n",
    "mycursor.execute(\"SELECT category_id,competition_name, count(competition_name) as competition_count from competitions_table group by category_id\")\n",
    "out=mycursor.fetchall()\n",
    "from tabulate import tabulate\n",
    "print(tabulate(out,headers=[i[0] for i in mycursor.description],  tablefmt='psql')) "
   ]
  },
  {
   "cell_type": "code",
   "execution_count": null,
   "metadata": {},
   "outputs": [],
   "source": [
    "#7) List all competitions with no parent (top-level competitions)\n",
    "mycursor.execute(\"SELECT competition_name AS List_of_competions from competitions_table WHERE parent_id ='NA' \")\n",
    "out=mycursor.fetchall()\n",
    "from tabulate import tabulate\n",
    "print(tabulate(out,headers=[i[0] for i in mycursor.description],  tablefmt='psql'))"
   ]
  },
  {
   "cell_type": "markdown",
   "metadata": {},
   "source": [
    "SPORTS RADAR API COMPETITIONS DATA"
   ]
  },
  {
   "cell_type": "code",
   "execution_count": null,
   "metadata": {},
   "outputs": [],
   "source": [
    "#COLLECTING JSON COMPLEXES DATA FROM SPORTS RADAR API\n",
    "import requests\n",
    "\n",
    "url = \"https://api.sportradar.com/tennis/trial/v3/en/complexes.json?api_key=UMjToJVdpV74IvFAz1VrFWQcVMwv510g66U5yqOI\"\n",
    "\n",
    "headers = {\"accept\": \"application/json\"}\n",
    "\n",
    "response1 = requests.get(url, headers=headers)"
   ]
  },
  {
   "cell_type": "markdown",
   "metadata": {},
   "source": [
    "CREATING THE COMPLEXES TABLE"
   ]
  },
  {
   "cell_type": "code",
   "execution_count": 51,
   "metadata": {},
   "outputs": [],
   "source": [
    "#STORING JSON DATA IN JSON_DATA VARIABLE\n",
    "json1_data = response1.json()"
   ]
  },
  {
   "cell_type": "markdown",
   "metadata": {},
   "source": [
    "Creating the Complexes Table"
   ]
  },
  {
   "cell_type": "code",
   "execution_count": 52,
   "metadata": {},
   "outputs": [],
   "source": [
    "#CREATING EMPTY LIST TO STORE THE JSON DATA\n",
    "complexes_list = []"
   ]
  },
  {
   "cell_type": "code",
   "execution_count": 53,
   "metadata": {},
   "outputs": [],
   "source": [
    "#STORING THE DATA IN EMPTY LIST\n",
    "for complexes in json1_data[\"complexes\"]:\n",
    "     complexes_info = {\n",
    "          \"complex_id\": complexes.get(\"id\"),\n",
    "          \"complex_name\": complexes.get(\"name\")\n",
    "        \n",
    "     }\n",
    "     complexes_list.append(complexes_info)"
   ]
  },
  {
   "cell_type": "code",
   "execution_count": 54,
   "metadata": {},
   "outputs": [],
   "source": [
    "#CREATING DATAFRAME FOR COMPLEXES DATA\n",
    "dataframe_3 = pd.DataFrame(complexes_list)"
   ]
  },
  {
   "cell_type": "code",
   "execution_count": null,
   "metadata": {},
   "outputs": [
    {
     "data": {
      "text/html": [
       "<div>\n",
       "<style scoped>\n",
       "    .dataframe tbody tr th:only-of-type {\n",
       "        vertical-align: middle;\n",
       "    }\n",
       "\n",
       "    .dataframe tbody tr th {\n",
       "        vertical-align: top;\n",
       "    }\n",
       "\n",
       "    .dataframe thead th {\n",
       "        text-align: right;\n",
       "    }\n",
       "</style>\n",
       "<table border=\"1\" class=\"dataframe\">\n",
       "  <thead>\n",
       "    <tr style=\"text-align: right;\">\n",
       "      <th></th>\n",
       "      <th>complex_id</th>\n",
       "      <th>complex_name</th>\n",
       "    </tr>\n",
       "  </thead>\n",
       "  <tbody>\n",
       "    <tr>\n",
       "      <th>0</th>\n",
       "      <td>sr:complex:705</td>\n",
       "      <td>Nacional</td>\n",
       "    </tr>\n",
       "    <tr>\n",
       "      <th>1</th>\n",
       "      <td>sr:complex:1078</td>\n",
       "      <td>Estadio de la Cartuja</td>\n",
       "    </tr>\n",
       "  </tbody>\n",
       "</table>\n",
       "</div>"
      ],
      "text/plain": [
       "        complex_id           complex_name\n",
       "0   sr:complex:705               Nacional\n",
       "1  sr:complex:1078  Estadio de la Cartuja"
      ]
     },
     "execution_count": 55,
     "metadata": {},
     "output_type": "execute_result"
    }
   ],
   "source": [
    "#DISPLAY THE DATAFRAME\n",
    "dataframe_3"
   ]
  },
  {
   "cell_type": "code",
   "execution_count": 56,
   "metadata": {},
   "outputs": [
    {
     "data": {
      "text/plain": [
       "complex_id      0\n",
       "complex_name    0\n",
       "dtype: int64"
      ]
     },
     "execution_count": 56,
     "metadata": {},
     "output_type": "execute_result"
    }
   ],
   "source": [
    "#CHECKING NULL VALUES\n",
    "dataframe_3.isnull().sum()"
   ]
  },
  {
   "cell_type": "code",
   "execution_count": 57,
   "metadata": {},
   "outputs": [
    {
     "data": {
      "text/plain": [
       "complex_id      609\n",
       "complex_name    609\n",
       "dtype: int64"
      ]
     },
     "execution_count": 57,
     "metadata": {},
     "output_type": "execute_result"
    }
   ],
   "source": [
    "#COUNTING THE DATA\n",
    "dataframe_3.count()\n"
   ]
  },
  {
   "cell_type": "code",
   "execution_count": 58,
   "metadata": {},
   "outputs": [
    {
     "data": {
      "text/plain": [
       "complex_id      609\n",
       "complex_name    586\n",
       "dtype: int64"
      ]
     },
     "execution_count": 58,
     "metadata": {},
     "output_type": "execute_result"
    }
   ],
   "source": [
    "#CHECKING UNIQUE DATA\n",
    "dataframe_3.nunique()"
   ]
  },
  {
   "cell_type": "code",
   "execution_count": 59,
   "metadata": {},
   "outputs": [],
   "source": [
    "#CONVERTING THE COMPLEX CLEANED DATAFRAME TO CSV FILES\n",
    "dataframe_3.to_csv(\"Complexes_Table.csv\",index=False)"
   ]
  },
  {
   "cell_type": "markdown",
   "metadata": {},
   "source": [
    "CREATING THE COMPLEXES TABLE"
   ]
  },
  {
   "cell_type": "code",
   "execution_count": 60,
   "metadata": {},
   "outputs": [],
   "source": [
    "#CREATING EMPTY LIST TO STORE THE JSON DATA\n",
    "venues_list = []"
   ]
  },
  {
   "cell_type": "code",
   "execution_count": 61,
   "metadata": {},
   "outputs": [],
   "source": [
    "#STORING THE DATA IN EMPTY LIST\n",
    "for complexes in json1_data[\"complexes\"]:\n",
    "    for venues in complexes.get('venues', []):\n",
    "        venue_info = {\n",
    "            \"venue_id\": venues['id'],\n",
    "            \"venue_name\": venues['name'],\n",
    "            \"city_name\": venues['city_name'],\n",
    "            \"country_name\": venues['country_name'],\n",
    "            \"country_code\": venues['country_code'],\n",
    "            \"timezone\": venues['timezone'],  \n",
    "            \"complex_id\": complexes['id']\n",
    "        }\n",
    "        venues_list.append(venue_info)"
   ]
  },
  {
   "cell_type": "code",
   "execution_count": 62,
   "metadata": {},
   "outputs": [],
   "source": [
    "#CREATING DATAFRAME FOR COMPLEXES DATA\n",
    "dataframe_4 = pd.DataFrame(venues_list)"
   ]
  },
  {
   "cell_type": "code",
   "execution_count": null,
   "metadata": {},
   "outputs": [],
   "source": [
    "#DISPLAY THE DATAFRAME\n",
    "dataframe_4.head(20)"
   ]
  },
  {
   "cell_type": "code",
   "execution_count": 64,
   "metadata": {},
   "outputs": [
    {
     "data": {
      "text/plain": [
       "venue_id        0\n",
       "venue_name      0\n",
       "city_name       0\n",
       "country_name    0\n",
       "country_code    0\n",
       "timezone        0\n",
       "complex_id      0\n",
       "dtype: int64"
      ]
     },
     "execution_count": 64,
     "metadata": {},
     "output_type": "execute_result"
    }
   ],
   "source": [
    "#CHECKING NULL VALUES\n",
    "dataframe_4.isnull().sum()"
   ]
  },
  {
   "cell_type": "code",
   "execution_count": 65,
   "metadata": {},
   "outputs": [
    {
     "data": {
      "text/plain": [
       "venue_id        3145\n",
       "venue_name       619\n",
       "city_name        343\n",
       "country_name      64\n",
       "country_code      64\n",
       "timezone          79\n",
       "complex_id       466\n",
       "dtype: int64"
      ]
     },
     "execution_count": 65,
     "metadata": {},
     "output_type": "execute_result"
    }
   ],
   "source": [
    "#CHECKING UNIQUE DATA \n",
    "dataframe_4.nunique()"
   ]
  },
  {
   "cell_type": "code",
   "execution_count": 66,
   "metadata": {},
   "outputs": [
    {
     "data": {
      "text/plain": [
       "venue_id        3145\n",
       "venue_name      3145\n",
       "city_name       3145\n",
       "country_name    3145\n",
       "country_code    3145\n",
       "timezone        3145\n",
       "complex_id      3145\n",
       "dtype: int64"
      ]
     },
     "execution_count": 66,
     "metadata": {},
     "output_type": "execute_result"
    }
   ],
   "source": [
    "#COUNTING THE DATA\n",
    "dataframe_4.count()"
   ]
  },
  {
   "cell_type": "code",
   "execution_count": 67,
   "metadata": {},
   "outputs": [],
   "source": [
    "#CONVERTING THE CLEANED DATAFRAME TO CSV FILES\n",
    "dataframe_4.to_csv(\"Venues_Table.csv\",index =False)"
   ]
  },
  {
   "cell_type": "markdown",
   "metadata": {},
   "source": [
    "SQL QUERY FOR COMPLEXES AND VENUES TABLE"
   ]
  },
  {
   "cell_type": "code",
   "execution_count": 68,
   "metadata": {},
   "outputs": [
    {
     "name": "stdout",
     "output_type": "stream",
     "text": [
      "<mysql.connector.connection.MySQLConnection object at 0x0000024A1BE92570>\n"
     ]
    }
   ],
   "source": [
    "#CONNECTING SQL WITH PYTHON \n",
    "import mysql.connector\n",
    "connection= mysql.connector.connect(\n",
    " host= \"localhost\",\n",
    " user= \"root\",\n",
    " password=\"\",\n",
    " database=\"tennis_project\"\n",
    " )\n",
    "print(connection)\n",
    "mycursor = connection.cursor()"
   ]
  },
  {
   "cell_type": "code",
   "execution_count": null,
   "metadata": {},
   "outputs": [],
   "source": [
    "#add the primary key to complex_id in complexes table\n",
    "mycursor.execute(\"ALTER TABLE complexes_table ADD CONSTRAINT COMPLEX PRIMARY KEY (complex_id)\")"
   ]
  },
  {
   "cell_type": "code",
   "execution_count": 88,
   "metadata": {},
   "outputs": [],
   "source": [
    "#add the primary key to venue_id in venues table\n",
    "mycursor.execute(\"ALTER TABLE venues_table ADD CONSTRAINT ven PRIMARY KEY (venue_id)\")"
   ]
  },
  {
   "cell_type": "code",
   "execution_count": null,
   "metadata": {},
   "outputs": [],
   "source": [
    "#add the foreign key to category_id in venues table\n",
    "mycursor.execute(\"ALTER TABLE venues_table ADD CONSTRAINT COMPE FOREIGN KEY (complex_id) REFERENCES complexes_table(complex_id)\")"
   ]
  },
  {
   "cell_type": "code",
   "execution_count": null,
   "metadata": {},
   "outputs": [],
   "source": [
    "#1)List all venues along with their associated complex name\n",
    "mycursor.execute(\"\"\"SELECT venues_table.venue_name,complexes_table.complex_name FROM venues_table \n",
    "                 inner join complexes_table ON venues_table.complex_id=complexes_table.complex_id\"\"\")\n",
    "out=mycursor.fetchall()\n",
    "from tabulate import tabulate\n",
    "print(tabulate(out,headers=[i[0] for i in mycursor.description],  tablefmt='psql'))"
   ]
  },
  {
   "cell_type": "code",
   "execution_count": null,
   "metadata": {},
   "outputs": [],
   "source": [
    "#2Count the number of venues in each complex\n",
    "mycursor.execute(\"\"\" SELECT c.complex_name, COUNT(v.venue_name) AS venue_count\n",
    "                     FROM venues_table v JOIN complexes_table c ON v.complex_id = c.complex_id\n",
    "                     GROUP BY c.complex_name order by venue_count DESC ;\n",
    "                     \"\"\")\n",
    "out=mycursor.fetchall()\n",
    "from tabulate import tabulate\n",
    "print(tabulate(out,headers=[i[0] for i in mycursor.description],  tablefmt='psql'))"
   ]
  },
  {
   "cell_type": "code",
   "execution_count": null,
   "metadata": {},
   "outputs": [],
   "source": [
    "#3)Get details of venues in a specific country (e.g., Chile)\n",
    "mycursor.execute(\"SELECT country_name,venue_id,venue_name,city_name,country_code,timezone from venues_table WHERE country_name='Australia' \")\n",
    "out=mycursor.fetchall()\n",
    "from tabulate import tabulate\n",
    "print(tabulate(out,headers=[i[0] for i in mycursor.description],  tablefmt='psql'))"
   ]
  },
  {
   "cell_type": "code",
   "execution_count": null,
   "metadata": {},
   "outputs": [
    {
     "name": "stdout",
     "output_type": "stream",
     "text": [
      "+--------------------+---------------------+\n",
      "| venue_name         | timezone            |\n",
      "|--------------------+---------------------|\n",
      "| Estadio Monumental | America/Lima        |\n",
      "| Stadium            | Asia/Shanghai       |\n",
      "| Court 2            | Asia/Shanghai       |\n",
      "| Court 7            | Australia/Sydney    |\n",
      "| Court 20           | Australia/Melbourne |\n",
      "+--------------------+---------------------+\n"
     ]
    }
   ],
   "source": [
    "#4)Identify all venues and their timezones\n",
    "mycursor.execute(\"SELECT venue_name, timezone FROM venues_table\")\n",
    "out=mycursor.fetchall()\n",
    "from tabulate import tabulate\n",
    "print(tabulate(out,headers=[i[0] for i in mycursor.description],  tablefmt='psql'))\n"
   ]
  },
  {
   "cell_type": "code",
   "execution_count": null,
   "metadata": {},
   "outputs": [],
   "source": [
    "#5)Find complexes that have more than one venue\n",
    "mycursor.execute(\"\"\"SELECT complex_id FROM (SELECT COUNT(venue_id) as venue_id_count, complex_id FROM venues_table GROUP BY complex_id) \n",
    "                 AS subquery\n",
    "                  WHERE venue_id_count>1 \"\"\")\n",
    "out=mycursor.fetchall()\n",
    "from tabulate import tabulate\n",
    "print(tabulate(out,headers=[i[0] for i in mycursor.description],  tablefmt='psql'))\n"
   ]
  },
  {
   "cell_type": "code",
   "execution_count": null,
   "metadata": {},
   "outputs": [],
   "source": [
    "#6)List venues grouped by country\n",
    "mycursor.execute(\"SELECT country_name, GROUP_CONCAT(venue_name) AS venues FROM venues_table GROUP BY country_name;\")\n",
    "out=mycursor.fetchall()\n",
    "from tabulate import tabulate\n",
    "print(tabulate(out,headers=[i[0] for i in mycursor.description],  tablefmt='psql'))\n"
   ]
  },
  {
   "cell_type": "code",
   "execution_count": 77,
   "metadata": {},
   "outputs": [
    {
     "name": "stdout",
     "output_type": "stream",
     "text": [
      "+----------------+----------------+\n",
      "| venue_name     | complex_name   |\n",
      "|----------------+----------------|\n",
      "| Cancha Central | Nacional       |\n",
      "+----------------+----------------+\n"
     ]
    }
   ],
   "source": [
    "#7)Find all venues for a specific complex (e.g., Nacional)\n",
    "mycursor.execute(\"\"\"SELECT venue_name,complex_name FROM (SELECT venues_table.venue_name,complexes_table.complex_name FROM venues_table \n",
    "                 inner join complexes_table ON venues_table.complex_id=complexes_table.complex_id) AS joined_table WHERE complex_name='Nacional';\"\"\")\n",
    "out=mycursor.fetchall()\n",
    "from tabulate import tabulate\n",
    "print(tabulate(out,headers=[i[0] for i in mycursor.description],  tablefmt='psql'))\n",
    "\n",
    "\n"
   ]
  },
  {
   "cell_type": "code",
   "execution_count": null,
   "metadata": {},
   "outputs": [
    {
     "name": "stdout",
     "output_type": "stream",
     "text": [
      "+--------------------------------+\n",
      "|   COUNT(DISTINCT country_name) |\n",
      "|--------------------------------|\n",
      "|                             64 |\n",
      "+--------------------------------+\n"
     ]
    }
   ],
   "source": [
    "#8) create the country count\n",
    "mycursor.execute(\"SELECT COUNT(DISTINCT country_name) FROM venues_table\")\n",
    "out=mycursor.fetchall()\n",
    "from tabulate import tabulate\n",
    "print(tabulate(out,headers=[i[0] for i in mycursor.description],  tablefmt='psql'))"
   ]
  },
  {
   "cell_type": "markdown",
   "metadata": {},
   "source": [
    "SPORTS RADAR API FOR Double_ranking_competitor "
   ]
  },
  {
   "cell_type": "code",
   "execution_count": null,
   "metadata": {},
   "outputs": [],
   "source": [
    "#COLLECTING JSON COMPETITROR RANKING DATA FROM SPORTS RADAR API\n",
    "import requests\n",
    "\n",
    "url = \"https://api.sportradar.com/tennis/trial/v3/en/double_competitors_rankings.json?api_key=UMjToJVdpV74IvFAz1VrFWQcVMwv510g66U5yqOI\"\n",
    "\n",
    "headers = {\"accept\": \"application/json\"}\n",
    "\n",
    "response2 = requests.get(url, headers=headers)"
   ]
  },
  {
   "cell_type": "markdown",
   "metadata": {},
   "source": [
    "CREATING THE DOUBLE COMPETITOR RANKING TABLE"
   ]
  },
  {
   "cell_type": "code",
   "execution_count": 80,
   "metadata": {},
   "outputs": [],
   "source": [
    "#STORING THE JSON DOUBLE COMPETITOR DATA IN JSON2 DATA\n",
    "json2_data = response2.json()"
   ]
  },
  {
   "cell_type": "code",
   "execution_count": 81,
   "metadata": {},
   "outputs": [],
   "source": [
    "#CREATING EMPTY LIST TO STORE THE JSON DATA\n",
    "competitor_ranking_list = []"
   ]
  },
  {
   "cell_type": "code",
   "execution_count": 82,
   "metadata": {},
   "outputs": [],
   "source": [
    "#STORING THE DATA IN EMPTY LIST\n",
    "for ranks in json2_data[\"rankings\"]:\n",
    "    for competitor_ranking in ranks.get( \"competitor_rankings\",[]):\n",
    "        competitor_ranking_info={\n",
    "            \"rank\":competitor_ranking[\"rank\"],\n",
    "            \"movement\":competitor_ranking[\"movement\"],\n",
    "            \"points\":competitor_ranking[\"points\"],\n",
    "            \"competitions_played\":competitor_ranking[\"competitions_played\"],\n",
    "            \"competitor_id\":competitor_ranking[\"competitor\"].get(\"id\")\n",
    "        }\n",
    "        competitor_ranking_list.append( competitor_ranking_info)"
   ]
  },
  {
   "cell_type": "code",
   "execution_count": 83,
   "metadata": {},
   "outputs": [],
   "source": [
    "#CREATING DATAFRAME FOR COMPLEXES DATA\n",
    "dataframe_5 = pd.DataFrame(competitor_ranking_list)"
   ]
  },
  {
   "cell_type": "code",
   "execution_count": null,
   "metadata": {},
   "outputs": [],
   "source": [
    "#DISPLAY THE DATAFRAME\n",
    "dataframe_5.head(25)"
   ]
  },
  {
   "cell_type": "code",
   "execution_count": 85,
   "metadata": {},
   "outputs": [
    {
     "data": {
      "text/plain": [
       "rank                   0\n",
       "movement               0\n",
       "points                 0\n",
       "competitions_played    0\n",
       "competitor_id          0\n",
       "dtype: int64"
      ]
     },
     "execution_count": 85,
     "metadata": {},
     "output_type": "execute_result"
    }
   ],
   "source": [
    "#CHECKING NULL DATA\n",
    "dataframe_5.isnull().sum()"
   ]
  },
  {
   "cell_type": "code",
   "execution_count": 86,
   "metadata": {},
   "outputs": [
    {
     "data": {
      "text/plain": [
       "rank                    501\n",
       "movement                 73\n",
       "points                  563\n",
       "competitions_played      45\n",
       "competitor_id          1000\n",
       "dtype: int64"
      ]
     },
     "execution_count": 86,
     "metadata": {},
     "output_type": "execute_result"
    }
   ],
   "source": [
    "#CHECKING UNIQUE DATA\n",
    "dataframe_5.nunique()"
   ]
  },
  {
   "cell_type": "code",
   "execution_count": 87,
   "metadata": {},
   "outputs": [
    {
     "data": {
      "text/plain": [
       "rank                   1000\n",
       "movement               1000\n",
       "points                 1000\n",
       "competitions_played    1000\n",
       "competitor_id          1000\n",
       "dtype: int64"
      ]
     },
     "execution_count": 87,
     "metadata": {},
     "output_type": "execute_result"
    }
   ],
   "source": [
    "#COUNTING THE DATA\n",
    "dataframe_5.count()"
   ]
  },
  {
   "cell_type": "code",
   "execution_count": 88,
   "metadata": {},
   "outputs": [],
   "source": [
    "#CONVERTING DATAFRAME TO CSV FILE\n",
    "dataframe_5.to_csv(\"competitor_ranking_Table.csv\",index=False)"
   ]
  },
  {
   "cell_type": "markdown",
   "metadata": {},
   "source": [
    "CREATING THE COMPETITOR TABLE"
   ]
  },
  {
   "cell_type": "code",
   "execution_count": 89,
   "metadata": {},
   "outputs": [],
   "source": [
    "#CREATING EMPTY LIST TO STORE THE DATA\n",
    "competitor_list = []"
   ]
  },
  {
   "cell_type": "code",
   "execution_count": 90,
   "metadata": {},
   "outputs": [],
   "source": [
    "#STORING THE DATA IN EMPTY LIST\n",
    "for ranks in json2_data[\"rankings\"]:\n",
    "    for competitor_ranking in ranks.get( \"competitor_rankings\",[]):\n",
    "        competitor_info={\n",
    "            \"competitor_id\":competitor_ranking[\"competitor\"].get(\"id\"),\n",
    "            \"name\":competitor_ranking[\"competitor\"].get(\"name\"),\n",
    "            \"country\":competitor_ranking[\"competitor\"].get(\"country\"),\n",
    "            \"country_code\":competitor_ranking[\"competitor\"].get(\"country_code\"),\n",
    "            \"abbreviation\":competitor_ranking[\"competitor\"].get(\"abbreviation\")\n",
    "        }\n",
    "        competitor_list.append(competitor_info)"
   ]
  },
  {
   "cell_type": "code",
   "execution_count": 91,
   "metadata": {},
   "outputs": [],
   "source": [
    "#CREATING DATAFRAME FOR COMPLEXES DATA\n",
    "dataframe_6 = pd.DataFrame(competitor_list)"
   ]
  },
  {
   "cell_type": "code",
   "execution_count": 92,
   "metadata": {},
   "outputs": [
    {
     "data": {
      "text/plain": [
       "competitor_id    1000\n",
       "name             1000\n",
       "country          1000\n",
       "country_code      931\n",
       "abbreviation     1000\n",
       "dtype: int64"
      ]
     },
     "execution_count": 92,
     "metadata": {},
     "output_type": "execute_result"
    }
   ],
   "source": [
    "#DISPLAY THE COUNT\n",
    "dataframe_6.count()"
   ]
  },
  {
   "cell_type": "code",
   "execution_count": 93,
   "metadata": {},
   "outputs": [],
   "source": [
    "#FILLING NULL VALUES \n",
    "dataframe_6.fillna('NAN',inplace=True)"
   ]
  },
  {
   "cell_type": "code",
   "execution_count": null,
   "metadata": {},
   "outputs": [],
   "source": [
    "#DISPLAY THE DATAFRAME\n",
    "dataframe_6.head(25)"
   ]
  },
  {
   "cell_type": "code",
   "execution_count": 95,
   "metadata": {},
   "outputs": [
    {
     "data": {
      "text/plain": [
       "competitor_id    0\n",
       "name             0\n",
       "country          0\n",
       "country_code     0\n",
       "abbreviation     0\n",
       "dtype: int64"
      ]
     },
     "execution_count": 95,
     "metadata": {},
     "output_type": "execute_result"
    }
   ],
   "source": [
    "#CHECKING NULL VALUE AFTER FILLING THE NULL DATA\n",
    "dataframe_6.isnull().sum()"
   ]
  },
  {
   "cell_type": "code",
   "execution_count": 96,
   "metadata": {},
   "outputs": [
    {
     "data": {
      "text/plain": [
       "competitor_id    1000\n",
       "name             1000\n",
       "country            78\n",
       "country_code       78\n",
       "abbreviation      637\n",
       "dtype: int64"
      ]
     },
     "execution_count": 96,
     "metadata": {},
     "output_type": "execute_result"
    }
   ],
   "source": [
    "#CHECKING UNIQUE DATA \n",
    "dataframe_6.nunique()"
   ]
  },
  {
   "cell_type": "code",
   "execution_count": 97,
   "metadata": {},
   "outputs": [
    {
     "data": {
      "text/plain": [
       "competitor_id    1000\n",
       "name             1000\n",
       "country          1000\n",
       "country_code     1000\n",
       "abbreviation     1000\n",
       "dtype: int64"
      ]
     },
     "execution_count": 97,
     "metadata": {},
     "output_type": "execute_result"
    }
   ],
   "source": [
    "#DISPLAY THE COUNT AFTER FILLING THE NULL DATA\n",
    "dataframe_6.count()"
   ]
  },
  {
   "cell_type": "code",
   "execution_count": null,
   "metadata": {},
   "outputs": [],
   "source": [
    "#CONVERTING COMPETITORS DATAFRAME TO CSV FILE\n",
    "dataframe_6.to_csv(\"Competitor_table.csv\",index=False)"
   ]
  },
  {
   "cell_type": "markdown",
   "metadata": {},
   "source": [
    "SQL QUERY FOR COMPLEXES AND VENUES TABLE"
   ]
  },
  {
   "cell_type": "code",
   "execution_count": 98,
   "metadata": {},
   "outputs": [
    {
     "name": "stdout",
     "output_type": "stream",
     "text": [
      "<mysql.connector.connection.MySQLConnection object at 0x0000024A1C6805C0>\n"
     ]
    }
   ],
   "source": [
    "#CONNECTING SQL WITH PYTHON\n",
    "import mysql.connector\n",
    "connection= mysql.connector.connect(\n",
    " host= \"localhost\",\n",
    " user= \"root\",\n",
    " password=\"\",\n",
    " database=\"tennis_project\"\n",
    " )\n",
    "print(connection)\n",
    "mycursor = connection.cursor()"
   ]
  },
  {
   "cell_type": "code",
   "execution_count": null,
   "metadata": {},
   "outputs": [],
   "source": [
    "#CREATING RANK ID AND MAKE AS A PRIMARY KEY\n",
    "mycursor.execute(\"ALTER TABLE competitor_ranking_table ADD COLUMN rank_id INT AUTO_INCREMENT PRIMARY KEY FIRST \")"
   ]
  },
  {
   "cell_type": "code",
   "execution_count": null,
   "metadata": {},
   "outputs": [],
   "source": [
    "# MAKE COMPETITOR ID AS A PRIMARY KEY\n",
    "mycursor.execute(\"ALTER TABLE competitor_table ADD CONSTRAINT COMPET PRIMARY KEY(competitor_id)\")"
   ]
  },
  {
   "cell_type": "code",
   "execution_count": null,
   "metadata": {},
   "outputs": [],
   "source": [
    "#CREATING FOREIGN KEY AS COMPETITOR ID\n",
    "mycursor.execute(\"\"\"\n",
    "    ALTER TABLE competitor_ranking_table \n",
    "    ADD CONSTRAINT RANK FOREIGN KEY (competitor_id) \n",
    "    REFERENCES competitor_table (competitor_id)\n",
    "\"\"\")"
   ]
  },
  {
   "cell_type": "code",
   "execution_count": null,
   "metadata": {},
   "outputs": [],
   "source": [
    "#1)Get all competitors with their rank and points.\n",
    "mycursor.execute(\"\"\"SELECT competitor_table.name,competitor_ranking_table.rank,competitor_ranking_table.points\n",
    "                FROM competitor_table inner join competitor_ranking_table ON \n",
    "                 competitor_table.competitor_id=competitor_ranking_table.competitor_id order by points DESC\"\"\")\n",
    "out=mycursor.fetchall()\n",
    "from tabulate import tabulate\n",
    "print(tabulate(out,headers=[i[0] for i in mycursor.description],  tablefmt='psql'))"
   ]
  },
  {
   "cell_type": "code",
   "execution_count": 100,
   "metadata": {},
   "outputs": [
    {
     "name": "stdout",
     "output_type": "stream",
     "text": [
      "+---------------------------+--------+\n",
      "| name                      |   rank |\n",
      "|---------------------------+--------|\n",
      "| Pavic, Mate               |      1 |\n",
      "| Arevalo-Gonzalez, Marcelo |      1 |\n",
      "| Siniakova, Katerina       |      1 |\n",
      "| Routliffe, Erin           |      2 |\n",
      "| Thompson, Jordan          |      3 |\n",
      "+---------------------------+--------+\n"
     ]
    }
   ],
   "source": [
    "#2)Find competitors ranked in the top 5\n",
    "mycursor.execute(\"\"\"SELECT competitor_table.name,competitor_ranking_table.rank\n",
    "                FROM competitor_table inner join competitor_ranking_table ON \n",
    "                 competitor_table.competitor_id=competitor_ranking_table.competitor_id ORDER BY rank LIMIT 5\"\"\")\n",
    "out=mycursor.fetchall()\n",
    "from tabulate import tabulate\n",
    "print(tabulate(out,headers=[i[0] for i in mycursor.description],  tablefmt='psql'))"
   ]
  },
  {
   "cell_type": "code",
   "execution_count": null,
   "metadata": {},
   "outputs": [],
   "source": [
    "#3)List competitors with no rank movement (stable rank)\n",
    "mycursor.execute(\"\"\"SELECT competitor_table.name, competitor_ranking_table.rank\n",
    "FROM competitor_table \n",
    "INNER JOIN competitor_ranking_table \n",
    "    ON competitor_table.competitor_id = competitor_ranking_table.competitor_id\n",
    "WHERE competitor_ranking_table.rank = competitor_ranking_table.rank\n",
    "ORDER BY rank\"\"\")\n",
    "out=mycursor.fetchall()\n",
    "from tabulate import tabulate\n",
    "print(tabulate(out,headers=[i[0] for i in mycursor.description],  tablefmt='psql'))\n",
    "\n"
   ]
  },
  {
   "cell_type": "code",
   "execution_count": 102,
   "metadata": {},
   "outputs": [
    {
     "name": "stdout",
     "output_type": "stream",
     "text": [
      "+-----------+----------------+\n",
      "| country   |   total_points |\n",
      "|-----------+----------------|\n",
      "| Croatia   |          17031 |\n",
      "+-----------+----------------+\n"
     ]
    }
   ],
   "source": [
    "#4)Get the total points of competitors from a specific country (e.g., Croatia)\n",
    "mycursor.execute(\"\"\"SELECT  country, sum(points) AS total_points FROM (SELECT competitor_table.country,competitor_ranking_table.points\n",
    "                FROM competitor_table inner join competitor_ranking_table ON \n",
    "                 competitor_table.competitor_id=competitor_ranking_table.competitor_id) AS NEWTABLE WHERE country = 'Croatia' \"\"\")\n",
    "out=mycursor.fetchall()\n",
    "from tabulate import tabulate\n",
    "print(tabulate(out,headers=[i[0] for i in mycursor.description],  tablefmt='psql'))"
   ]
  },
  {
   "cell_type": "code",
   "execution_count": null,
   "metadata": {},
   "outputs": [],
   "source": [
    "#5)Count the number of competitors per country\n",
    "mycursor.execute(\"SELECT country,COUNT(name) AS competitor_count from competitor_table group by country order by competitor_count DESC\")\n",
    "out=mycursor.fetchall()\n",
    "from tabulate import tabulate\n",
    "print(tabulate(out,headers=[i[0] for i in mycursor.description],  tablefmt='psql'))"
   ]
  },
  {
   "cell_type": "code",
   "execution_count": 104,
   "metadata": {},
   "outputs": [
    {
     "name": "stdout",
     "output_type": "stream",
     "text": [
      "+-----------------------------+\n",
      "|   MAX_POINT_in_current_week |\n",
      "|-----------------------------|\n",
      "|                        9530 |\n",
      "+-----------------------------+\n"
     ]
    }
   ],
   "source": [
    "#6.Find competitors with the highest points in the current week\n",
    "mycursor.execute(\"SELECT max(points) AS MAX_POINT_in_current_week from competitor_ranking_table\")\n",
    "out=mycursor.fetchall()\n",
    "from tabulate import tabulate\n",
    "print(tabulate(out,headers=[i[0] for i in mycursor.description],  tablefmt='psql'))\n"
   ]
  },
  {
   "cell_type": "code",
   "execution_count": 105,
   "metadata": {},
   "outputs": [
    {
     "name": "stdout",
     "output_type": "stream",
     "text": [
      "+-------------+\n",
      "|   AVG_POINT |\n",
      "|-------------|\n",
      "|      722.16 |\n",
      "+-------------+\n"
     ]
    }
   ],
   "source": [
    "#7.Find competitors with the highest points in the current week\n",
    "mycursor.execute(\"SELECT AVG(points) AS AVG_POINT from competitor_ranking_table\")\n",
    "out=mycursor.fetchall()\n",
    "from tabulate import tabulate\n",
    "print(tabulate(out,headers=[i[0] for i in mycursor.description],  tablefmt='psql'))"
   ]
  }
 ],
 "metadata": {
  "language_info": {
   "name": "python"
  }
 },
 "nbformat": 4,
 "nbformat_minor": 2
}
